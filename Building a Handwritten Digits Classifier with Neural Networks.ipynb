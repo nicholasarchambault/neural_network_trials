{
 "cells": [
  {
   "cell_type": "markdown",
   "metadata": {},
   "source": [
    "# Building a Handwritten Digits Classifier with Neural Networks\n",
    "by Nicholas Archambault\n",
    "\n",
    "Deep neural networks have been used to reach state-of-the-art performance on image classification tasks in the last decade. For some image classification tasks, deep neural networks actually perform as well as or slightly better than the human benchmark.\n",
    "\n",
    "This project will explore the effectiveness of deep, feedforward neural networks at classifying images of digits."
   ]
  },
  {
   "cell_type": "markdown",
   "metadata": {},
   "source": [
    "## Importing the Data\n",
    "\n",
    "We'll first import the appropriate packages as well as a pre-loaded Python dataset of handwritten digits from the University of California - Irvine and transform the resulting 2D array of data values into a Pandas dataframe."
   ]
  },
  {
   "cell_type": "code",
   "execution_count": 1,
   "metadata": {},
   "outputs": [],
   "source": [
    "from sklearn.datasets import load_digits\n",
    "import pandas as pd\n",
    "import numpy as np\n",
    "import matplotlib.pyplot as plt\n",
    "import seaborn as sns\n",
    "%matplotlib inline"
   ]
  },
  {
   "cell_type": "code",
   "execution_count": 2,
   "metadata": {},
   "outputs": [
    {
     "data": {
      "text/plain": [
       "dict_keys(['data', 'target', 'target_names', 'images', 'DESCR'])"
      ]
     },
     "execution_count": 2,
     "metadata": {},
     "output_type": "execute_result"
    }
   ],
   "source": [
    "digits_data = load_digits()\n",
    "digits_data.keys()"
   ]
  },
  {
   "cell_type": "code",
   "execution_count": 3,
   "metadata": {},
   "outputs": [],
   "source": [
    "# Convert key aspects to series and dataframe objects\n",
    "labels = pd.Series(digits_data[\"target\"])\n",
    "data = pd.DataFrame(digits_data[\"data\"])"
   ]
  },
  {
   "cell_type": "markdown",
   "metadata": {},
   "source": [
    "After this transformation, each image is represented as a row of pixel values. We'll need to reshape the image to its original 28x28 pixel format and plot it on a coordinate grid in order to visualize it."
   ]
  },
  {
   "cell_type": "code",
   "execution_count": 4,
   "metadata": {},
   "outputs": [
    {
     "data": {
      "text/plain": [
       "<matplotlib.image.AxesImage at 0x1a1f8d9748>"
      ]
     },
     "execution_count": 4,
     "metadata": {},
     "output_type": "execute_result"
    },
    {
     "data": {
      "image/png": "[encoded data removed]",
      "text/plain": [
       "<Figure size 432x288 with 1 Axes>"
      ]
     },
     "metadata": {
      "needs_background": "light"
     },
     "output_type": "display_data"
    }
   ],
   "source": [
    "first_image = data.iloc[0]\n",
    "np_image = first_image.values\n",
    "np_image = np_image.reshape(8,8)\n",
    "\n",
    "plt.imshow(np_image, cmap=\"gray_r\")"
   ]
  },
  {
   "cell_type": "markdown",
   "metadata": {},
   "source": [
    "We can plot multiple images on the same grid in order to get a sense of their varied appearances."
   ]
  },
  {
   "cell_type": "code",
   "execution_count": 5,
   "metadata": {},
   "outputs": [
    {
     "data": {
      "text/plain": [
       "<matplotlib.image.AxesImage at 0x1a1f9c1390>"
      ]
     },
     "execution_count": 5,
     "metadata": {},
     "output_type": "execute_result"
    },
    {
     "data": {
      "image/png": "[encoded data removed]",
      "text/plain": [
       "<Figure size 432x288 with 8 Axes>"
      ]
     },
     "metadata": {
      "needs_background": "light"
     },
     "output_type": "display_data"
    }
   ],
   "source": [
    "fig, ax = plt.subplots(2,4)\n",
    "\n",
    "ax[0,0].imshow(data.iloc[0].values.reshape(8,8), cmap=\"gray_r\")\n",
    "ax[0,1].imshow(data.iloc[99].values.reshape(8,8), cmap=\"gray_r\")\n",
    "ax[0,2].imshow(data.iloc[199].values.reshape(8,8), cmap=\"gray_r\")\n",
    "ax[0,3].imshow(data.iloc[299].values.reshape(8,8), cmap=\"gray_r\")\n",
    "\n",
    "ax[1,0].imshow(data.iloc[999].values.reshape(8,8), cmap=\"gray_r\")\n",
    "ax[1,1].imshow(data.iloc[1099].values.reshape(8,8), cmap=\"gray_r\")\n",
    "ax[1,2].imshow(data.iloc[1199].values.reshape(8,8), cmap=\"gray_r\")\n",
    "ax[1,3].imshow(data.iloc[1299].values.reshape(8,8), cmap=\"gray_r\")"
   ]
  },
  {
   "cell_type": "markdown",
   "metadata": {},
   "source": [
    "## K-Nearest Neighbors Model\n",
    "\n",
    "Our baseline model uses a k-nearest neighbors algorithm; we establish a data pipeline to create, test, and establish the model's accuracy with 4-fold cross validation."
   ]
  },
  {
   "cell_type": "code",
   "execution_count": 6,
   "metadata": {},
   "outputs": [
    {
     "data": {
      "text/plain": [
       "0.9677233358079684"
      ]
     },
     "execution_count": 6,
     "metadata": {},
     "output_type": "execute_result"
    }
   ],
   "source": [
    "from sklearn.neighbors import KNeighborsRegressor\n",
    "from sklearn.model_selection import KFold\n",
    "\n",
    "## FUNCTION PIPELINE\n",
    "\n",
    "# Training function; renders 50/50 train/test split of data\n",
    "def train(neighbors, train_features, train_labels):\n",
    "    knn = KNeighborsRegressor(n_neighbors = neighbors)\n",
    "    knn.fit(train_features, train_labels)\n",
    "    return knn\n",
    "\n",
    "# Testing function\n",
    "def test(model, test_features, test_labels):\n",
    "    predictions = model.predict(test_features)\n",
    "    train_test_df = pd.DataFrame()\n",
    "    train_test_df[\"correct_labels\"] = test_labels\n",
    "    train_test_df[\"predictions\"] = predictions\n",
    "    accuracy = sum(train_test_df[\"correct_labels\"] == train_test_df[\"predictions\"])/len(train_test_df)\n",
    "    \n",
    "    return accuracy\n",
    "\n",
    "# 4-fold cross validation of testing results\n",
    "def cross_validate(k):\n",
    "    fold_accuracies = []\n",
    "    kf = KFold(n_splits = 4, random_state = 2)\n",
    "    for train_index, test_index in kf.split(data):\n",
    "        train_features, test_features = data.loc[train_index], data.loc[test_index]\n",
    "        train_labels, test_labels = labels.loc[train_index], labels.loc[test_index]\n",
    "        \n",
    "        model = train(k, train_features, train_labels)\n",
    "        accuracy = test(model, test_features, test_labels)\n",
    "        fold_accuracies.append(accuracy)\n",
    "        \n",
    "    return fold_accuracies\n",
    "\n",
    "# Run pipeline for model with k = 1\n",
    "knn_one = cross_validate(1)\n",
    "\n",
    "# Must take mean of cross-validated accuracies\n",
    "np.mean(knn_one)"
   ]
  },
  {
   "cell_type": "markdown",
   "metadata": {},
   "source": [
    "With a k-value of 1 and 4-fold cross validation, our model yields a respectable accuracy value of 96.8%.\n",
    "\n",
    "We can then establish a range of values for k and run the model and plot the results for each."
   ]
  },
  {
   "cell_type": "code",
   "execution_count": 7,
   "metadata": {},
   "outputs": [
    {
     "data": {
      "image/png": "[encoded data removed]",
      "text/plain": [
       "<Figure size 576x288 with 1 Axes>"
      ]
     },
     "metadata": {
      "needs_background": "light"
     },
     "output_type": "display_data"
    }
   ],
   "source": [
    "# Update parameters\n",
    "k_values = list(range(1,10))\n",
    "k_accuracies = []\n",
    "\n",
    "# Enfold into model pipeline\n",
    "for k in k_values:\n",
    "    accuracy = cross_validate(k)\n",
    "    mean_accuracy = np.mean(accuracy)\n",
    "    k_accuracies.append(mean_accuracy)\n",
    "    \n",
    "plt.figure(figsize = (8,4))\n",
    "plt.plot(k_values, k_accuracies)\n",
    "plt.title(\"Mean Accuracies vs. k Value\")\n",
    "plt.xlabel(\"k Value\")\n",
    "plt.ylabel(\"Accuracy\")\n",
    "plt.show()"
   ]
  },
  {
   "cell_type": "markdown",
   "metadata": {},
   "source": [
    "We can see from the plot that a k-nearest neighbors model with 4-fold cross validation generally yields diminishing accuracy as k is increased. The most accurate model features a k-value of 1.\n",
    "\n",
    "We will use neural networks with increasing numbers of hidden layers to generate more accurate models."
   ]
  },
  {
   "cell_type": "markdown",
   "metadata": {},
   "source": [
    "# Single Layer Neural Network\n",
    "\n",
    "The power of neural networks lies in their ability to construct and learn from intermediate stage models within hidden layers. We'll test a single-layer network to gauge its comparison in accuracy to the k-nearest neighbors model.\n",
    "\n",
    "The data pipeline remains largely the same aside from the replacement of the k-nearest neighbors estimator object with a neural network object from scikit Learn's `neural_network.MLPClassifier` class. We iterate over an array of values for neuron quantities within the single hidden layer (8, 16, 32, 64, 128, 256) and continue to use 4-fold cross validation to assess the accuracy of each iteration, plotting the results."
   ]
  },
  {
   "cell_type": "code",
   "execution_count": 8,
   "metadata": {},
   "outputs": [],
   "source": [
    "# Import packages\n",
    "from sklearn.neural_network import MLPClassifier\n",
    "from sklearn.neighbors import KNeighborsClassifier\n",
    "from sklearn.model_selection import KFold"
   ]
  },
  {
   "cell_type": "code",
   "execution_count": 9,
   "metadata": {},
   "outputs": [
    {
     "data": {
      "image/png": "[encoded data removed]",
      "text/plain": [
       "<Figure size 576x288 with 1 Axes>"
      ]
     },
     "metadata": {
      "needs_background": "light"
     },
     "output_type": "display_data"
    }
   ],
   "source": [
    "## FUNCTION PIPELINE\n",
    "\n",
    "# Neural network training function\n",
    "def train_nn(neural_arch, train_features, train_labels):\n",
    "    nn = MLPClassifier(hidden_layer_sizes = neural_arch, max_iter = 10000)\n",
    "    nn.fit(train_features, train_labels)\n",
    "    return nn\n",
    "\n",
    "# Testing function\n",
    "def test_nn(model, test_features, test_labels):\n",
    "    predictions = model.predict(test_features)\n",
    "    train_test_df = pd.DataFrame()\n",
    "    train_test_df[\"correct_labels\"] = test_labels\n",
    "    train_test_df[\"predictions\"] = predictions\n",
    "    accuracy = sum(train_test_df[\"correct_labels\"] == train_test_df[\"predictions\"])/len(train_test_df)\n",
    "    \n",
    "    return accuracy\n",
    "\n",
    "# Cross-validation function\n",
    "def cross_validate_nn(neural_arch):\n",
    "    fold_accuracies = []\n",
    "    kf = KFold(n_splits = 4, random_state = 2)\n",
    "    for train_index, test_index in kf.split(data):\n",
    "        train_features, test_features = data.loc[train_index], data.loc[test_index]\n",
    "        train_labels, test_labels = labels.loc[train_index], labels.loc[test_index]\n",
    "        \n",
    "        model = train_nn(neural_arch, train_features, train_labels)\n",
    "        accuracy = test_nn(model, test_features, test_labels)\n",
    "        fold_accuracies.append(accuracy)\n",
    "        \n",
    "    return fold_accuracies\n",
    "\n",
    "# Define list of neural parameters\n",
    "neural_layers = [\n",
    "    (8,),\n",
    "    (16,),\n",
    "    (32,),\n",
    "    (64,),\n",
    "    (128,),\n",
    "    (256,)\n",
    "]\n",
    "\n",
    "neural_accuracies = []\n",
    "\n",
    "# Iterate through neural parameters, resulting in list of comparative accuracies\n",
    "for n in neural_layers:\n",
    "    accuracy = cross_validate_nn(n)\n",
    "    mean_accuracy = np.mean(accuracy)\n",
    "    neural_accuracies.append(mean_accuracy)\n",
    "\n",
    "x = [i[0] for i in neural_layers]\n",
    "\n",
    "plt.figure(figsize = (8,4))\n",
    "plt.plot(x, neural_accuracies)\n",
    "plt.title(\"Mean Accuracies vs. Number of Single Layer Neurons\")\n",
    "plt.xlabel(\"Neurons\")\n",
    "plt.ylabel(\"Accuracy\")\n",
    "plt.show()"
   ]
  },
  {
   "cell_type": "code",
   "execution_count": 10,
   "metadata": {},
   "outputs": [
    {
     "data": {
      "text/plain": [
       "[0.8842514229151199,\n",
       " 0.9193046275674339,\n",
       " 0.9276540460282108,\n",
       " 0.9376676565206633,\n",
       " 0.9421244741400645,\n",
       " 0.9482417718386538]"
      ]
     },
     "execution_count": 10,
     "metadata": {},
     "output_type": "execute_result"
    }
   ],
   "source": [
    "neural_accuracies"
   ]
  },
  {
   "cell_type": "markdown",
   "metadata": {},
   "source": [
    "From the plot, we see that a greater number of neurons generally leads to a more accurate model: the iteration with 256 neurons achieved close to 95% accuracy, up from the ~88% accuracy achieved by the model with only 8 neurons. Simple accuracy computes the number of correct classifications the model made, but doesn't tell us anything about false or true positives or false or true negatives, meaning these better-fitting models could actually be overfitting.\n",
    "\n",
    "Given that the k-nearest neighbors model achieved over 96% accuracy, there seem to be no advantages to using a single layer neural network instead."
   ]
  },
  {
   "cell_type": "markdown",
   "metadata": {},
   "source": [
    "## Double Layer Network\n",
    "\n",
    "We can alter the model so it takes two identical hidden layers of 64, 128 and 256 neurons."
   ]
  },
  {
   "cell_type": "code",
   "execution_count": 11,
   "metadata": {},
   "outputs": [
    {
     "data": {
      "image/png": "[encoded data removed]",
      "text/plain": [
       "<Figure size 576x288 with 1 Axes>"
      ]
     },
     "metadata": {
      "needs_background": "light"
     },
     "output_type": "display_data"
    }
   ],
   "source": [
    "# Alter neural parameters\n",
    "neural_layers_two = [\n",
    "    (64,64),\n",
    "    (128,128),\n",
    "    (256,256)\n",
    "]\n",
    "\n",
    "neural_accuracies_two = []\n",
    "\n",
    "# Run function pipeline for new parameters\n",
    "for n in neural_layers_two:\n",
    "    accuracy = cross_validate_nn(n)\n",
    "    mean_accuracy = np.mean(accuracy)\n",
    "    neural_accuracies_two.append(mean_accuracy)\n",
    "\n",
    "x = [i[0] for i in neural_layers_two]\n",
    "\n",
    "plt.figure(figsize = (8,4))\n",
    "plt.plot(x, neural_accuracies_two)\n",
    "plt.title(\"Mean Accuracies vs. Number of Two-Layer Neurons\")\n",
    "plt.xlabel(\"Neurons\")\n",
    "plt.ylabel(\"Accuracy\")\n",
    "plt.show()"
   ]
  },
  {
   "cell_type": "code",
   "execution_count": 12,
   "metadata": {},
   "outputs": [
    {
     "data": {
      "text/plain": [
       "[0.9460146003464489, 0.957706013363029, 0.9588121752041574]"
      ]
     },
     "execution_count": 12,
     "metadata": {},
     "output_type": "execute_result"
    }
   ],
   "source": [
    "neural_accuracies_two"
   ]
  },
  {
   "cell_type": "markdown",
   "metadata": {},
   "source": [
    "Using two layers marginally improved accuracy. We should be wary of overfitting, but using 4-fold cross validation also provides a bit more assurance that the model is generalizing to achieve the extra 1% in simple accuracy over the single hidden layer networks we tried earlier."
   ]
  },
  {
   "cell_type": "markdown",
   "metadata": {},
   "source": [
    "## Triple Layer Network\n",
    "\n",
    "To help prevent overfitting, we can increase the validation to 6-fold as we incorporate a third hidden layer. Neuron values are 10, 64, and 128."
   ]
  },
  {
   "cell_type": "code",
   "execution_count": 13,
   "metadata": {},
   "outputs": [
    {
     "data": {
      "image/png": "[encoded data removed]",
      "text/plain": [
       "<Figure size 576x288 with 1 Axes>"
      ]
     },
     "metadata": {
      "needs_background": "light"
     },
     "output_type": "display_data"
    }
   ],
   "source": [
    "# Modify function to use 6-fold cross-validation\n",
    "def cross_validate_nn(neural_arch):\n",
    "    fold_accuracies = []\n",
    "    kf = KFold(n_splits = 6, random_state = 2)\n",
    "    for train_index, test_index in kf.split(data):\n",
    "        train_features, test_features = data.loc[train_index], data.loc[test_index]\n",
    "        train_labels, test_labels = labels.loc[train_index], labels.loc[test_index]\n",
    "        \n",
    "        model = train_nn(neural_arch, train_features, train_labels)\n",
    "        accuracy = test_nn(model, test_features, test_labels)\n",
    "        fold_accuracies.append(accuracy)\n",
    "        \n",
    "    return fold_accuracies\n",
    "\n",
    "# Three-layer network list\n",
    "neural_layers_three = [\n",
    "    (10,10,10),\n",
    "    (64,64,64),\n",
    "    (128,128,128)\n",
    "]\n",
    "\n",
    "neural_accuracies_three = []\n",
    "\n",
    "# Run function pipeline\n",
    "for n in neural_layers_three:\n",
    "    accuracy = cross_validate_nn(n)\n",
    "    mean_accuracy = np.mean(accuracy)\n",
    "    neural_accuracies_three.append(mean_accuracy)\n",
    "\n",
    "x = [i[0] for i in neural_layers_three]\n",
    "\n",
    "plt.figure(figsize = (8,4))\n",
    "plt.plot(x, neural_accuracies_three)\n",
    "plt.title(\"Mean Accuracies vs. Number of Three-Layer Neurons\")\n",
    "plt.xlabel(\"Neurons\")\n",
    "plt.ylabel(\"Accuracy\")\n",
    "plt.show()"
   ]
  },
  {
   "cell_type": "code",
   "execution_count": 14,
   "metadata": {},
   "outputs": [
    {
     "data": {
      "text/plain": [
       "[0.9026142697881828, 0.9510330732069862, 0.9588127090301004]"
      ]
     },
     "execution_count": 14,
     "metadata": {},
     "output_type": "execute_result"
    }
   ],
   "source": [
    "neural_accuracies_three"
   ]
  },
  {
   "cell_type": "markdown",
   "metadata": {
    "collapsed": true
   },
   "source": [
    "## Conclusion\n",
    "\n",
    "Using three hidden layers improved accuracy to nearly 96%, even with 6-fold cross validation and only 128 neurons. This seems to be in line with the research literature out there about deep neural networks for computer vision. Having more layers and more neurons tends to improve the network's performance."
   ]
  }
 ],
 "metadata": {
  "anaconda-cloud": {},
  "kernelspec": {
   "display_name": "Python 3",
   "language": "python",
   "name": "python3"
  },
  "language_info": {
   "codemirror_mode": {
    "name": "ipython",
    "version": 3
   },
   "file_extension": ".py",
   "mimetype": "text/x-python",
   "name": "python",
   "nbconvert_exporter": "python",
   "pygments_lexer": "ipython3",
   "version": "3.7.1"
  }
 },
 "nbformat": 4,
 "nbformat_minor": 2
}
